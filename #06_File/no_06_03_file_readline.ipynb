{
 "cells": [
  {
   "cell_type": "code",
   "execution_count": 1,
   "id": "51a8d222",
   "metadata": {},
   "outputs": [
    {
     "name": "stdout",
     "output_type": "stream",
     "text": [
      "['giraffe', 'bird', 'deer', 'chicken', 'dog', 'cat', 'mouse', 'elephant', 'frog']\n"
     ]
    }
   ],
   "source": [
    "words_file = 'hangman_words.txt'\n",
    "\n",
    "try:\n",
    "    f = open(words_file)\n",
    "    words = f.read().splitlines()\n",
    "    print(words)\n",
    "    f.close()\n",
    "except IOError:\n",
    "    print('Cannot find file: ' + words_file)"
   ]
  },
  {
   "cell_type": "code",
   "execution_count": 2,
   "id": "853b03a1",
   "metadata": {},
   "outputs": [
    {
     "name": "stdout",
     "output_type": "stream",
     "text": [
      "bird\n",
      "\n",
      "deer\n",
      "\n",
      "chicken\n",
      "\n",
      "dog\n",
      "\n",
      "cat\n",
      "\n",
      "mouse\n",
      "\n",
      "elephant\n",
      "\n",
      "🔸There is an elephant in the file🔸\n"
     ]
    }
   ],
   "source": [
    "#06_03_file_readline\n",
    "words_file = 'hangman_words.txt'\n",
    "\n",
    "try:\n",
    "    f = open(words_file)\n",
    "    line = f.readline()\n",
    "    while line != '':\n",
    "        if line == 'elephant\\n':\n",
    "            print('🔸There is an elephant in the file🔸')\n",
    "            break\n",
    "        line = f.readline()\n",
    "        print(line)\n",
    "    f.close()\n",
    "except IOError:\n",
    "    print('Cannot find file: ' + words_file)\n",
    "    exit()"
   ]
  }
 ],
 "metadata": {
  "kernelspec": {
   "display_name": "Python 3 (ipykernel)",
   "language": "python",
   "name": "python3"
  },
  "language_info": {
   "codemirror_mode": {
    "name": "ipython",
    "version": 3
   },
   "file_extension": ".py",
   "mimetype": "text/x-python",
   "name": "python",
   "nbconvert_exporter": "python",
   "pygments_lexer": "ipython3",
   "version": "3.9.12"
  }
 },
 "nbformat": 4,
 "nbformat_minor": 5
}
