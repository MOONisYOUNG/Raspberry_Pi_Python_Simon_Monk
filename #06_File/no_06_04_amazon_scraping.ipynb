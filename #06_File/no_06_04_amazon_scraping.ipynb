{
 "cells": [
  {
   "cell_type": "code",
   "execution_count": 1,
   "id": "b9a7a278",
   "metadata": {},
   "outputs": [
    {
     "name": "stderr",
     "output_type": "stream",
     "text": [
      "C:\\Users\\Family\\AppData\\Local\\Temp\\ipykernel_14400\\1193682939.py:6: DeprecationWarning: MyOpener style of invoking requests is deprecated. Use newer urlopen functions/methods\n",
      "  myopener = MyOpener()\n"
     ]
    },
    {
     "name": "stdout",
     "output_type": "stream",
     "text": [
      "GeeekPi Raspberry Pi 4 4GB Starter Kit - 32GB Edition, Raspberry Pi 4 Case with PWM Fan, Raspberry Pi 5V 3.6A 18W Power Supply with ON/Off Switch, HDMI Cables for Raspberry Pi 4B (4GB RAM) \n",
      "\n",
      "GeeekPi Raspberry Pi 4 8GB Kit - 64GB Edition, DeskPi Lite Raspberry Pi 4 Case with Power Button/ Heatsink with PWM Fan, QC3.0 Power Supply, HDMI Cable, Card Reader for Raspberry Pi 4B (8GB RAM) \n",
      "\n",
      "Raspberry Pi 2 Model B Desktop (Quad Core CPU 900 MHz, 1 GB RAM, Linux) \n",
      "\n",
      "Vis Viva Raspberry Pi 4 Model B Starter Kit (1GB) \n",
      "\n",
      "Pico WH, Raspberry Pi Pico W with Pre-Soldered Header, Built-in WiFi Support 2.4/5 GHZ Wi-Fi 4, Based on Official RP2040 Dual-core Processor,Dual-core Arm Cortex M0+ Processor \n",
      "\n",
      "Raspberry Pi Zero to Pi 3B/3B+ Adapter, Based on Raspberry Pi Zero Series to Reproduce Original Appearance of Pi 3B/3B+, Alternative for Raspberry Pi 3 Model B/3B+, Compatible with Pi 3B/ 3B+ HATs \n",
      "\n",
      "JMOHMI 7 inches DSI Display for Raspberry Pi LCD Touch Screen Monitor 800 * 480 Resolution (OEM &amp; ODM Supported) \n",
      "\n",
      "Raspberry Pi Zero WH v1.1 + 8gb Micro SD Card Combo \n",
      "\n",
      "GeeekPi Raspberry Pi 4 2GB Starter Kit - 32GB Edition, Raspberry Pi 4 Case with PWM Fan, Raspberry Pi 18W 5V 3.6A Power Supply with ON / Off Switch, 2PCS HDMI Cables for Raspberry Pi 4B (2GB RAM) \n",
      "\n",
      "GeeekPi Raspberry Pi 4 8GB Starter Kit - 64GB Edition, Raspberry Pi 4 Case with PWM Fan, Raspberry Pi 18W 5V 3.6A Power Supply with ON / Off Switch, HDMI Cables for Raspberry Pi 4B (8GB RAM) \n",
      "\n",
      "SunFounder Raspberry Pi Ultimate Starter Kit for Raspberry Pi 4 B 3 B+ 400, Python C Java Scratch Node.js, Detailed Online Tutorials, 161 Projects, 337 Items (Camera Module, Speaker, I2C LCD, etc) \n",
      "\n",
      "iUniker Raspberry Pi 4 8GB Max Kit, -64GB Edition, with 20W 5V 4.0A Raspberry Pi 4 Power Supply, 4K HDMI Cable, Raspberry Pi 4 Case with Fan (8GB RAM) \n",
      "\n",
      "iUniker Raspberry Pi 4 8GB Max Kit, -64GB Edition, with 20W 5V 4.0A Raspberry Pi 4 Power Supply, 4K HDMI Cable, Raspberry Pi 4 Case with Fan (8GB RAM) \n",
      "\n",
      "Raspberry Pi Zero W (Wireless) ( 2017 model) \n",
      "\n",
      "Raspberry Pi 4 Model B Official PSU, USB-C, 5.1V, 3A, US Plug, Black SC0218 Pi Accessory (KSA-15E-051300HU) \n",
      "\n",
      "GeeekPi Raspberry Pi 4 4GB Starter Kit - 32GB Edition, Raspberry Pi 4 Case with PWM Fan, Raspberry Pi 5V 3.6A 18W Power Supply with ON/Off Switch, HDMI Cables for Raspberry Pi 4B (4GB RAM) \n",
      "\n",
      "Raspberry Pi 4 Model B 8GB \n",
      "\n",
      "ELECROW Crowpi Raspberry Pi 4 3 b 3b+ 4b+ Kit Raspberry Pi Learning Programming Kit with Sensors - Advanced Version \n",
      "\n",
      "Raspberry Pi Pico W \n",
      "\n",
      "GeeekPi Raspberry Pi 3B+ Case, Raspberry Pi Case with Fan, Retro Gaming Nes3Pi Case with Cooling Fan, Raspberry Pi Heatsinks for Raspberry Pi 2B/3B/3B+ \n",
      "\n",
      "Raspberry Pi 3 Model B Board \n",
      "\n",
      "Raspberry Pi Official 7 Inch Touch Screen for Raspberry Pi 4 / pi 3/pi 2 Model B \n",
      "\n",
      "iUniker Raspberry Pi 4 2GB Starter Kit - 64GB Edition, Raspberry Pi 4 Case Aluminum Case, 20W 5V 4A Raspberry Pi 4 Power Supply with ON/Off Switch, HDMI Cable for Pi 4B (2GB RAM) \n",
      "\n",
      "GeeekPi Raspberry Pi 4 8GB Starter Kit - 64GB Edition, Raspberry Pi 4 Case with PWM Fan, Raspberry Pi 18W 5V 3.6A Power Supply with ON / Off Switch, HDMI Cables for Raspberry Pi 4B (8GB RAM) \n",
      "\n"
     ]
    }
   ],
   "source": [
    "#06_04_amazon_scraping\n",
    "from urllib.request import FancyURLopener\n",
    "class MyOpener(FancyURLopener):\n",
    "    version = 'Mozilla/5.0 (Windows NT 10.0; Win64; x64) AppleWebKit/537.36 (KHTML, like Gecko) Chrome/110.0.0.0 Safari/537.36'\n",
    "\n",
    "myopener = MyOpener()\n",
    "\n",
    "page = myopener.open('https://www.amazon.com/s/ref=nb_sb_noss?field-keywords=raspberry+pi')\n",
    "contents = str(page.read())\n",
    "\n",
    "page.close()\n",
    "\n",
    "i = 0\n",
    "while True:\n",
    "    i = contents.find('a-size-medium a-color-base a-text-normal', i)\n",
    "    if i == -1:\n",
    "        break\n",
    "    i = contents.find('>', i+1)\n",
    "    j = contents.find('<', i+1)\n",
    "    \n",
    "    title = contents[i+1:j]\n",
    "    \n",
    "    # 상품명 출력하기\n",
    "    print(title, '\\n')"
   ]
  }
 ],
 "metadata": {
  "kernelspec": {
   "display_name": "Python 3 (ipykernel)",
   "language": "python",
   "name": "python3"
  },
  "language_info": {
   "codemirror_mode": {
    "name": "ipython",
    "version": 3
   },
   "file_extension": ".py",
   "mimetype": "text/x-python",
   "name": "python",
   "nbconvert_exporter": "python",
   "pygments_lexer": "ipython3",
   "version": "3.9.12"
  }
 },
 "nbformat": 4,
 "nbformat_minor": 5
}
