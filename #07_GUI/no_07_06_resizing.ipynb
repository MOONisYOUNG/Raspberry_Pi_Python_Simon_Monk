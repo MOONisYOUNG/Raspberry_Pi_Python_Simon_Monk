{
 "cells": [
  {
   "cell_type": "code",
   "execution_count": 1,
   "id": "2d2bb577",
   "metadata": {},
   "outputs": [],
   "source": [
    "#07_06_resizing\n",
    "from tkinter import *\n",
    "\n",
    "class App:\n",
    "    def __init__(self, master):\n",
    "        frame = Frame(master)\n",
    "        frame.pack(fill=BOTH, expand=1)\n",
    "        \n",
    "        # 리스트박스\n",
    "        listbox = Listbox(frame)\n",
    "        for item in ['red', 'green', 'blue', 'yellow', 'pink']:\n",
    "            listbox.insert(END, item)\n",
    "        listbox.grid(row=0, column=0, sticky=W+E+N+S)\n",
    "        \n",
    "        # 메시지\n",
    "        text = Text(frame, relief=SUNKEN)\n",
    "        text.grid(row=0, column=1, sticky=W+E+N+S)\n",
    "        text.insert(END, 'word' * 100)\n",
    "        \n",
    "        frame.columnconfigure(1, weight=1)\n",
    "        frame.rowconfigure(0, weight=1)"
   ]
  },
  {
   "cell_type": "code",
   "execution_count": 2,
   "id": "cbd2a38b",
   "metadata": {},
   "outputs": [],
   "source": [
    "root = Tk()\n",
    "app = App(root)\n",
    "root.geometry(\"400x300+0+0\")\n",
    "root.mainloop()"
   ]
  }
 ],
 "metadata": {
  "kernelspec": {
   "display_name": "Python 3 (ipykernel)",
   "language": "python",
   "name": "python3"
  },
  "language_info": {
   "codemirror_mode": {
    "name": "ipython",
    "version": 3
   },
   "file_extension": ".py",
   "mimetype": "text/x-python",
   "name": "python",
   "nbconvert_exporter": "python",
   "pygments_lexer": "ipython3",
   "version": "3.9.12"
  }
 },
 "nbformat": 4,
 "nbformat_minor": 5
}
