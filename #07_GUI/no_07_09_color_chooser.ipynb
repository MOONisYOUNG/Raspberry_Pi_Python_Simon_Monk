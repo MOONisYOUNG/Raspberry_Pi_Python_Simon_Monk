{
 "cells": [
  {
   "cell_type": "code",
   "execution_count": 1,
   "id": "d720f321",
   "metadata": {},
   "outputs": [],
   "source": [
    "#07_09_color_chooser\n",
    "from tkinter import *\n",
    "import tkinter.colorchooser as cc\n",
    "\n",
    "class App:\n",
    "    def __init__(self, master):\n",
    "        b = Button(master, text='Color..', command=self.ask_color).pack()\n",
    "        \n",
    "    def ask_color(self):\n",
    "        (rgb, hx) = cc.askcolor()\n",
    "        print('rgb=' + str(rgb) + ' hx=' + hx)"
   ]
  },
  {
   "cell_type": "code",
   "execution_count": 2,
   "id": "92317093",
   "metadata": {},
   "outputs": [
    {
     "name": "stdout",
     "output_type": "stream",
     "text": [
      "rgb=(255, 164, 255) hx=#ffa4ff\n"
     ]
    }
   ],
   "source": [
    "root = Tk()\n",
    "app = App(root)\n",
    "root.mainloop()"
   ]
  }
 ],
 "metadata": {
  "kernelspec": {
   "display_name": "Python 3 (ipykernel)",
   "language": "python",
   "name": "python3"
  },
  "language_info": {
   "codemirror_mode": {
    "name": "ipython",
    "version": 3
   },
   "file_extension": ".py",
   "mimetype": "text/x-python",
   "name": "python",
   "nbconvert_exporter": "python",
   "pygments_lexer": "ipython3",
   "version": "3.9.12"
  }
 },
 "nbformat": 4,
 "nbformat_minor": 5
}
