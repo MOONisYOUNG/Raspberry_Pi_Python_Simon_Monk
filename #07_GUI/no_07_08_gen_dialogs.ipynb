{
 "cells": [
  {
   "cell_type": "code",
   "execution_count": 1,
   "id": "fc44e09a",
   "metadata": {},
   "outputs": [],
   "source": [
    "#07_08_gen_dialogs\n",
    "from tkinter import *\n",
    "import tkinter.messagebox as mb\n",
    "\n",
    "class App:\n",
    "    def __init__(self, master):\n",
    "        b = Button(master, text='Press Me', command=self.info).pack()\n",
    "    \n",
    "    def info(self):\n",
    "        mb.showinfo('Information', \"Please don't press that button again!\")"
   ]
  },
  {
   "cell_type": "code",
   "execution_count": 2,
   "id": "0778e2c4",
   "metadata": {},
   "outputs": [],
   "source": [
    "root = Tk()\n",
    "app = App(root)\n",
    "root.mainloop()"
   ]
  }
 ],
 "metadata": {
  "kernelspec": {
   "display_name": "Python 3 (ipykernel)",
   "language": "python",
   "name": "python3"
  },
  "language_info": {
   "codemirror_mode": {
    "name": "ipython",
    "version": 3
   },
   "file_extension": ".py",
   "mimetype": "text/x-python",
   "name": "python",
   "nbconvert_exporter": "python",
   "pygments_lexer": "ipython3",
   "version": "3.9.12"
  }
 },
 "nbformat": 4,
 "nbformat_minor": 5
}
