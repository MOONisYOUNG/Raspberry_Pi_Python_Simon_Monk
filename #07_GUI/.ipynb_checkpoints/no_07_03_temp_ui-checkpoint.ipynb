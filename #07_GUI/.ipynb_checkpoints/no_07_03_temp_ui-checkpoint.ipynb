{
 "cells": [
  {
   "cell_type": "code",
   "execution_count": 1,
   "id": "bbcbaa35",
   "metadata": {},
   "outputs": [],
   "source": [
    "#07_03_temp_ui\n",
    "from tkinter import *\n",
    "\n",
    "class App:\n",
    "    def __init__(self, master):\n",
    "        frame = Frame(master)\n",
    "        frame.pack()\n",
    "        \n",
    "        Label(frame, text='deg C').grid(row=0, column=0)\n",
    "        \n",
    "        self.c_var = DoubleVar()\n",
    "        Entry(frame, textvariable=self.c_var).grid(row=0, column=1)\n",
    "        \n",
    "        Label(frame, text='deg F').grid(row=1, column=0)\n",
    "        \n",
    "        self.result_var = DoubleVar()\n",
    "        Label(frame, textvariable=self.result_var).grid(row=1, column=1)\n",
    "        \n",
    "        button = Button(frame, text='Convert', command=self.convert)\n",
    "        button.grid(row=2, columnspan=2)\n",
    "        \n",
    "    def convert(self):\n",
    "        print('Not implemented')"
   ]
  },
  {
   "cell_type": "code",
   "execution_count": 2,
   "id": "33e80021",
   "metadata": {},
   "outputs": [
    {
     "name": "stdout",
     "output_type": "stream",
     "text": [
      "Not implemented\n"
     ]
    }
   ],
   "source": [
    "root = Tk()\n",
    "root.wm_title('Temp Converter')\n",
    "app = App(root)\n",
    "root.mainloop()"
   ]
  }
 ],
 "metadata": {
  "kernelspec": {
   "display_name": "Python 3 (ipykernel)",
   "language": "python",
   "name": "python3"
  },
  "language_info": {
   "codemirror_mode": {
    "name": "ipython",
    "version": 3
   },
   "file_extension": ".py",
   "mimetype": "text/x-python",
   "name": "python",
   "nbconvert_exporter": "python",
   "pygments_lexer": "ipython3",
   "version": "3.9.12"
  }
 },
 "nbformat": 4,
 "nbformat_minor": 5
}
