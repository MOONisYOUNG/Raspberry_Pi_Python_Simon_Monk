{
 "cells": [
  {
   "cell_type": "code",
   "execution_count": 1,
   "id": "0ec47018",
   "metadata": {},
   "outputs": [],
   "source": [
    "#07_05_kitchen_sink\n",
    "from tkinter import *\n",
    "\n",
    "class App:\n",
    "    def __init__(self, master):\n",
    "        frame = Frame(master)\n",
    "        frame.pack()\n",
    "        \n",
    "        Label(frame, text='Label').grid(row=0, column=0)\n",
    "        Entry(frame, text='Entry').grid(row=0, column=1)\n",
    "        Button(frame, text='Button').grid(row=0, column=2)\n",
    "        \n",
    "        check_var = StringVar()\n",
    "        check = Checkbutton(frame, text='Checkbutton', variable=check_var, onvalue='Y', offvalue='N')\n",
    "        check.grid(row=1, column=0)\n",
    "        \n",
    "        \n",
    "        #Listbox\n",
    "        listbox = Listbox(frame, height=3, selectmode=SINGLE)\n",
    "        for item in ['red', 'green', 'blue', 'yellow', 'pink']:\n",
    "            listbox.insert(END, item)\n",
    "        listbox.grid(row=1, column=1)\n",
    "        \n",
    "        \n",
    "        #Radiobutton set\n",
    "        radio_frame = Frame(frame)\n",
    "        radio_selection = StringVar()\n",
    "        \n",
    "        b1 = Radiobutton(radio_frame, text='portrait', \n",
    "            variable=radio_selection, value='P')\n",
    "        b1.pack(side=LEFT)\n",
    "        \n",
    "        b2 = Radiobutton(radio_frame, text='landscape', \n",
    "            variable=radio_selection, value='L')\n",
    "        b2.pack(side=LEFT)\n",
    "        \n",
    "        radio_frame.grid(row=1, column=2)\n",
    "        \n",
    "        \n",
    "        #Scale\n",
    "        scale_var = IntVar()\n",
    "        \n",
    "        Scale(frame, from_=1, to=10, orient=HORIZONTAL,\n",
    "              variable=scale_var).grid(row=2, column=0)\n",
    "        \n",
    "        Label(frame, textvariable=scale_var, \n",
    "              font=(\"Helvetica\", 36)).grid(row=2, column=1)\n",
    "        \n",
    "        \n",
    "        #Message\n",
    "        message = Message(frame, \n",
    "              text='Multiline Message Area')\n",
    "        message.grid(row=2, column=2)\n",
    "        \n",
    "        \n",
    "        #Spinbox\n",
    "        Spinbox(frame, values=('a','b','c')).grid(row=3)"
   ]
  },
  {
   "cell_type": "code",
   "execution_count": 2,
   "id": "6b2b6b6e",
   "metadata": {},
   "outputs": [],
   "source": [
    "root = Tk()\n",
    "root.wm_title('Kitchen Sink')\n",
    "app = App(root)\n",
    "root.mainloop()"
   ]
  }
 ],
 "metadata": {
  "kernelspec": {
   "display_name": "Python 3 (ipykernel)",
   "language": "python",
   "name": "python3"
  },
  "language_info": {
   "codemirror_mode": {
    "name": "ipython",
    "version": 3
   },
   "file_extension": ".py",
   "mimetype": "text/x-python",
   "name": "python",
   "nbconvert_exporter": "python",
   "pygments_lexer": "ipython3",
   "version": "3.9.12"
  }
 },
 "nbformat": 4,
 "nbformat_minor": 5
}
