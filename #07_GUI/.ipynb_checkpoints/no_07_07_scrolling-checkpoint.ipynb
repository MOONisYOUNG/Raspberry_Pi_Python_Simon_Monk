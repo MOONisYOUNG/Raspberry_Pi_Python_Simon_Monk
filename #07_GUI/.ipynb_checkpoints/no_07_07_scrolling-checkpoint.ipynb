{
 "cells": [
  {
   "cell_type": "code",
   "execution_count": 1,
   "id": "3590759c",
   "metadata": {},
   "outputs": [],
   "source": [
    "#07_07_scrolling\n",
    "from tkinter import *\n",
    "\n",
    "class App:\n",
    "    def __init__(self, master):\n",
    "        scrollbar = Scrollbar(master)\n",
    "        scrollbar.pack(side=RIGHT, fill=Y)\n",
    "        \n",
    "        text = Text(master, yscrollcommand=scrollbar.set)\n",
    "        text.pack(side=LEFT, fill=BOTH)\n",
    "        text.insert(END, 'word' * 1000)\n",
    "        scrollbar.config(command=text.yview)"
   ]
  },
  {
   "cell_type": "code",
   "execution_count": 2,
   "id": "6c1ad5d4",
   "metadata": {},
   "outputs": [],
   "source": [
    "root = Tk()\n",
    "root.wm_title('Scrolling')\n",
    "app = App(root)\n",
    "root.mainloop()"
   ]
  }
 ],
 "metadata": {
  "kernelspec": {
   "display_name": "Python 3 (ipykernel)",
   "language": "python",
   "name": "python3"
  },
  "language_info": {
   "codemirror_mode": {
    "name": "ipython",
    "version": 3
   },
   "file_extension": ".py",
   "mimetype": "text/x-python",
   "name": "python",
   "nbconvert_exporter": "python",
   "pygments_lexer": "ipython3",
   "version": "3.9.12"
  }
 },
 "nbformat": 4,
 "nbformat_minor": 5
}
