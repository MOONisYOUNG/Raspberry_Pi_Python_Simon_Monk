{
 "cells": [
  {
   "cell_type": "code",
   "execution_count": 1,
   "id": "491fddf5",
   "metadata": {},
   "outputs": [],
   "source": [
    "#07_02_temp_framework\n",
    "from tkinter import *\n",
    "\n",
    "class App:\n",
    "    \n",
    "    def __init__(self, master):\n",
    "        frame = Frame(master)\n",
    "        frame.pack()\n",
    "        Label(frame, text='deg C').grid(row=0, column=0)\n",
    "        button = Button(frame, text='Convert', command=self.convert)\n",
    "        button.grid(row=1)\n",
    "        \n",
    "    def convert(self):\n",
    "        print('Not implemented')"
   ]
  },
  {
   "cell_type": "code",
   "execution_count": 2,
   "id": "69241c46",
   "metadata": {},
   "outputs": [
    {
     "name": "stdout",
     "output_type": "stream",
     "text": [
      "Not implemented\n"
     ]
    }
   ],
   "source": [
    "root = Tk()\n",
    "root.wm_title('Temp Converter')\n",
    "app = App(root)\n",
    "root.mainloop()"
   ]
  }
 ],
 "metadata": {
  "kernelspec": {
   "display_name": "Python 3 (ipykernel)",
   "language": "python",
   "name": "python3"
  },
  "language_info": {
   "codemirror_mode": {
    "name": "ipython",
    "version": 3
   },
   "file_extension": ".py",
   "mimetype": "text/x-python",
   "name": "python",
   "nbconvert_exporter": "python",
   "pygments_lexer": "ipython3",
   "version": "3.9.12"
  }
 },
 "nbformat": 4,
 "nbformat_minor": 5
}
