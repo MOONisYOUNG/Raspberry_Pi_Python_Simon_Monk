{
 "cells": [
  {
   "cell_type": "code",
   "execution_count": 1,
   "id": "0be1412c",
   "metadata": {},
   "outputs": [],
   "source": [
    "#07_11_canvas\n",
    "from tkinter import *\n",
    "\n",
    "class App:\n",
    "    def __init__(self, master):\n",
    "        canvas = Canvas(master, width=400, height=200)\n",
    "        canvas.pack()\n",
    "        canvas.create_rectangle(20, 20, 300, 100, fill='blue')\n",
    "        canvas.create_oval(30, 50, 290, 190, fill='#ff2277')\n",
    "        canvas.create_line(0, 0, 400, 200, fill='black', width=5)"
   ]
  },
  {
   "cell_type": "code",
   "execution_count": 2,
   "id": "45b84068",
   "metadata": {},
   "outputs": [],
   "source": [
    "root = Tk()\n",
    "app = App(root)\n",
    "root.mainloop()"
   ]
  }
 ],
 "metadata": {
  "kernelspec": {
   "display_name": "Python 3 (ipykernel)",
   "language": "python",
   "name": "python3"
  },
  "language_info": {
   "codemirror_mode": {
    "name": "ipython",
    "version": 3
   },
   "file_extension": ".py",
   "mimetype": "text/x-python",
   "name": "python",
   "nbconvert_exporter": "python",
   "pygments_lexer": "ipython3",
   "version": "3.9.12"
  }
 },
 "nbformat": 4,
 "nbformat_minor": 5
}
