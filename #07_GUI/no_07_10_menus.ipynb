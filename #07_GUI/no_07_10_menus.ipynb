{
 "cells": [
  {
   "cell_type": "code",
   "execution_count": 2,
   "id": "4027f8d6",
   "metadata": {},
   "outputs": [],
   "source": [
    "#07_10_menus.py\n",
    "from tkinter import *\n",
    "\n",
    "class App:\n",
    "    \n",
    "    def __init__(self, master):\n",
    "        self.entry_text = StringVar()\n",
    "        Entry(master, textvariable=self.entry_text).pack()\n",
    "        \n",
    "        menubar = Menu(root)\n",
    "        \n",
    "        filemenu = Menu(menubar, tearoff=0)\n",
    "        filemenu.add_command(label='Quit', command=exit)\n",
    "        menubar.add_cascade(label='File', menu=filemenu)\n",
    "        \n",
    "        editmenu = Menu(menubar, tearoff=0)\n",
    "        editmenu.add_command(label='Fill', command=self.fill)\n",
    "        menubar.add_cascade(label='Edit', menu=editmenu)\n",
    "        \n",
    "        master.config(menu=menubar)\n",
    "        \n",
    "    def fill(self):\n",
    "        self.entry_text.set('abc')\n",
    "        \n",
    "root = Tk()\n",
    "app = App(root)\n",
    "root.mainloop()"
   ]
  }
 ],
 "metadata": {
  "kernelspec": {
   "display_name": "Python 3 (ipykernel)",
   "language": "python",
   "name": "python3"
  },
  "language_info": {
   "codemirror_mode": {
    "name": "ipython",
    "version": 3
   },
   "file_extension": ".py",
   "mimetype": "text/x-python",
   "name": "python",
   "nbconvert_exporter": "python",
   "pygments_lexer": "ipython3",
   "version": "3.9.12"
  }
 },
 "nbformat": 4,
 "nbformat_minor": 5
}
