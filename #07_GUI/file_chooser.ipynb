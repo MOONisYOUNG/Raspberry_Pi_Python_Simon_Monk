{
 "cells": [
  {
   "cell_type": "code",
   "execution_count": 1,
   "id": "1e0c83ca",
   "metadata": {},
   "outputs": [],
   "source": [
    "# file_chooser\n",
    "from tkinter import *\n",
    "import tkinter.filedialog as fd\n",
    "\n",
    "class App:\n",
    "    def __init__(self, master):\n",
    "        b = Button(master, text='Choose File...', command=self.ask_file).pack()\n",
    "        \n",
    "    def ask_file(self):\n",
    "        file = fd.askopenfilename(initialdir='./')\n",
    "        print(file)"
   ]
  },
  {
   "cell_type": "code",
   "execution_count": 2,
   "id": "226b1262",
   "metadata": {},
   "outputs": [
    {
     "name": "stdout",
     "output_type": "stream",
     "text": [
      "D:/Coding/Study/Raspberry_Pi_Python_Simon_Monk/#07_GUI/no_07_07_scrolling.ipynb\n"
     ]
    }
   ],
   "source": [
    "root = Tk()\n",
    "app = App(root)\n",
    "root.mainloop()"
   ]
  }
 ],
 "metadata": {
  "kernelspec": {
   "display_name": "Python 3 (ipykernel)",
   "language": "python",
   "name": "python3"
  },
  "language_info": {
   "codemirror_mode": {
    "name": "ipython",
    "version": 3
   },
   "file_extension": ".py",
   "mimetype": "text/x-python",
   "name": "python",
   "nbconvert_exporter": "python",
   "pygments_lexer": "ipython3",
   "version": "3.9.12"
  }
 },
 "nbformat": 4,
 "nbformat_minor": 5
}
