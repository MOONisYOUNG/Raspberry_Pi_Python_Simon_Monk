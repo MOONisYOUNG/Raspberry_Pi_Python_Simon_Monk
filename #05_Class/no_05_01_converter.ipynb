{
 "cells": [
  {
   "cell_type": "code",
   "execution_count": 1,
   "id": "64889e32",
   "metadata": {},
   "outputs": [
    {
     "name": "stdout",
     "output_type": "stream",
     "text": [
      "Convert inches to mm\n"
     ]
    }
   ],
   "source": [
    "class ScaleConverter:\n",
    "    def __init__(self, units_from, units_to, factor):\n",
    "        self.units_from = units_from\n",
    "        self.units_to = units_to\n",
    "        self.factor = factor\n",
    "        \n",
    "    def description(self):\n",
    "        return 'Convert ' + self.units_from + ' to ' + self.units_to\n",
    "    \n",
    "    def convert(self, value):\n",
    "        return value * self.factor\n",
    "    \n",
    "if __name__ == '__main__':\n",
    "    c1 = ScaleConverter('inches', 'mm', 25)\n",
    "    print(c1.description())"
   ]
  },
  {
   "cell_type": "code",
   "execution_count": 2,
   "id": "9a1ba2ff",
   "metadata": {},
   "outputs": [
    {
     "name": "stdout",
     "output_type": "stream",
     "text": [
      "Convert inches to mm\n",
      "converting 2 inches\n",
      "50mm\n",
      "\n",
      "\n",
      "Convert C to F\n",
      "converting 20C\n",
      "68.0F\n"
     ]
    }
   ],
   "source": [
    "class ScaleAndOffsetConverter(ScaleConverter):\n",
    "    def __init__(self, units_from, units_to, factor, offset):\n",
    "        # 객체 상속 표기법 1\n",
    "        # super().__init__(units_from, units_to, factor)\n",
    "        \n",
    "        # 객체 상속 표기법 2\n",
    "        ScaleConverter.__init__(self, units_from, units_to, factor)\n",
    "        self.offset = offset\n",
    "        \n",
    "    def convert(self, value):\n",
    "        return value * self.factor + self.offset\n",
    "    \n",
    "if __name__ == '__main__':\n",
    "    c1 = ScaleConverter('inches', 'mm', 25)\n",
    "    print(c1.description())\n",
    "    print('converting 2 inches')\n",
    "    print(str(c1.convert(2)) + c1.units_to)\n",
    "    \n",
    "    print('\\n')\n",
    "    \n",
    "    c2 = ScaleAndOffsetConverter('C', 'F', 1.8, 32)\n",
    "    print(c2.description())\n",
    "    print('converting 20C')\n",
    "    print(str(c2.convert(20)) + c2.units_to)"
   ]
  }
 ],
 "metadata": {
  "kernelspec": {
   "display_name": "Python 3 (ipykernel)",
   "language": "python",
   "name": "python3"
  },
  "language_info": {
   "codemirror_mode": {
    "name": "ipython",
    "version": 3
   },
   "file_extension": ".py",
   "mimetype": "text/x-python",
   "name": "python",
   "nbconvert_exporter": "python",
   "pygments_lexer": "ipython3",
   "version": "3.9.12"
  }
 },
 "nbformat": 4,
 "nbformat_minor": 5
}
