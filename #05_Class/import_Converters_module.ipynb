{
 "cells": [
  {
   "cell_type": "code",
   "execution_count": 1,
   "id": "6e4e028c",
   "metadata": {},
   "outputs": [
    {
     "name": "stdout",
     "output_type": "stream",
     "text": [
      "Convert inches to mm\n",
      "converting 2 inches\n",
      "50mm\n"
     ]
    }
   ],
   "source": [
    "import converters\n",
    "\n",
    "c1 = converters.ScaleConverter('inches', 'mm', 25)\n",
    "print(c1.description())\n",
    "print('converting 2 inches')\n",
    "print(str(c1.convert(2)) + c1.units_to)"
   ]
  }
 ],
 "metadata": {
  "kernelspec": {
   "display_name": "Python 3 (ipykernel)",
   "language": "python",
   "name": "python3"
  },
  "language_info": {
   "codemirror_mode": {
    "name": "ipython",
    "version": 3
   },
   "file_extension": ".py",
   "mimetype": "text/x-python",
   "name": "python",
   "nbconvert_exporter": "python",
   "pygments_lexer": "ipython3",
   "version": "3.9.12"
  }
 },
 "nbformat": 4,
 "nbformat_minor": 5
}
